{
 "cells": [
  {
   "cell_type": "code",
   "execution_count": 1,
   "metadata": {},
   "outputs": [
    {
     "name": "stdout",
     "output_type": "stream",
     "text": [
      "      Name  Age sex\n",
      "0    Alice   25   F\n",
      "1      Bob   30   M\n",
      "2  Charlie   35   M\n"
     ]
    }
   ],
   "source": [
    "import sketch \n",
    "import pandas as pd\n",
    "\n",
    "# Create a sample DataFrame\n",
    "data = {'Name': ['Alice', 'Bob', 'Charlie'], 'Age': [25, 30, 35]}\n",
    "df = pd.DataFrame(data)\n",
    "\n",
    "data2 = {'Name': ['Alice', 'Bob', 'Charlie'], 'sex': ['F', 'M', \"M\"]}\n",
    "df2 = pd.DataFrame(data2)\n",
    "\n",
    "# # Ask Sketch a question about the DataFrame\n",
    "# df.sketch.ask('How many rows are in the DataFrame?')\n",
    "\n",
    "# # Use Sketch to generate code for a task\n",
    "# df.sketch.howto('Merge this dataframe with df2 on name')\n",
    "\n",
    "merged_df = df.merge(df2, on='Name')\n",
    "print(merged_df)"
   ]
  }
 ],
 "metadata": {
  "kernelspec": {
   "display_name": "base",
   "language": "python",
   "name": "python3"
  },
  "language_info": {
   "codemirror_mode": {
    "name": "ipython",
    "version": 3
   },
   "file_extension": ".py",
   "mimetype": "text/x-python",
   "name": "python",
   "nbconvert_exporter": "python",
   "pygments_lexer": "ipython3",
   "version": "3.11.7"
  }
 },
 "nbformat": 4,
 "nbformat_minor": 2
}

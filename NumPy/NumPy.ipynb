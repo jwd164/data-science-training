{
 "cells": [
  {
   "cell_type": "markdown",
   "metadata": {},
   "source": [
    "# NumPy Tutorial #\n",
    "\n",
    "An experimentation with NumPy following the tutorial at: https://www.youtube.com/watch?v=8Y0qQEh7dJg"
   ]
  },
  {
   "cell_type": "markdown",
   "metadata": {},
   "source": [
    "## NumPy Arrays : Creating Arrays"
   ]
  },
  {
   "cell_type": "code",
   "execution_count": 2,
   "metadata": {},
   "outputs": [
    {
     "name": "stdout",
     "output_type": "stream",
     "text": [
      "[1 2 3 4 5]\n",
      "[[1 2 3]\n",
      " [4 5 6]\n",
      " [7 8 9]]\n",
      "[1 2 3 4 5 6 7 8 9]\n",
      "[0.         0.83333333 1.66666667 2.5        3.33333333 4.16666667\n",
      " 5.        ]\n",
      "[0. 0. 0. 0.]\n",
      "[[1. 1. 1.]\n",
      " [1. 1. 1.]]\n",
      "9\n",
      "int32\n"
     ]
    },
    {
     "name": "stdout",
     "output_type": "stream",
     "text": [
      "\u001b[1;31mDocstring:\u001b[0m\n",
      "randint(low, high=None, size=None, dtype=int)\n",
      "\n",
      "Return random integers from `low` (inclusive) to `high` (exclusive).\n",
      "\n",
      "Return random integers from the \"discrete uniform\" distribution of\n",
      "the specified dtype in the \"half-open\" interval [`low`, `high`). If\n",
      "`high` is None (the default), then results are from [0, `low`).\n",
      "\n",
      ".. note::\n",
      "    New code should use the `~numpy.random.Generator.integers`\n",
      "    method of a `~numpy.random.Generator` instance instead;\n",
      "    please see the :ref:`random-quick-start`.\n",
      "\n",
      "Parameters\n",
      "----------\n",
      "low : int or array-like of ints\n",
      "    Lowest (signed) integers to be drawn from the distribution (unless\n",
      "    ``high=None``, in which case this parameter is one above the\n",
      "    *highest* such integer).\n",
      "high : int or array-like of ints, optional\n",
      "    If provided, one above the largest (signed) integer to be drawn\n",
      "    from the distribution (see above for behavior if ``high=None``).\n",
      "    If array-like, must contain integer values\n",
      "size : int or tuple of ints, optional\n",
      "    Output shape.  If the given shape is, e.g., ``(m, n, k)``, then\n",
      "    ``m * n * k`` samples are drawn.  Default is None, in which case a\n",
      "    single value is returned.\n",
      "dtype : dtype, optional\n",
      "    Desired dtype of the result. Byteorder must be native.\n",
      "    The default value is int.\n",
      "\n",
      "    .. versionadded:: 1.11.0\n",
      "\n",
      "Returns\n",
      "-------\n",
      "out : int or ndarray of ints\n",
      "    `size`-shaped array of random integers from the appropriate\n",
      "    distribution, or a single such random int if `size` not provided.\n",
      "\n",
      "See Also\n",
      "--------\n",
      "random_integers : similar to `randint`, only for the closed\n",
      "    interval [`low`, `high`], and 1 is the lowest value if `high` is\n",
      "    omitted.\n",
      "random.Generator.integers: which should be used for new code.\n",
      "\n",
      "Examples\n",
      "--------\n",
      ">>> np.random.randint(2, size=10)\n",
      "array([1, 0, 0, 0, 1, 1, 0, 0, 1, 0]) # random\n",
      ">>> np.random.randint(1, size=10)\n",
      "array([0, 0, 0, 0, 0, 0, 0, 0, 0, 0])\n",
      "\n",
      "Generate a 2 x 4 array of ints between 0 and 4, inclusive:\n",
      "\n",
      ">>> np.random.randint(5, size=(2, 4))\n",
      "array([[4, 0, 2, 1], # random\n",
      "       [3, 2, 2, 0]])\n",
      "\n",
      "Generate a 1 x 3 array with 3 different upper bounds\n",
      "\n",
      ">>> np.random.randint(1, [3, 5, 10])\n",
      "array([2, 2, 9]) # random\n",
      "\n",
      "Generate a 1 by 3 array with 3 different lower bounds\n",
      "\n",
      ">>> np.random.randint([1, 5, 7], 10)\n",
      "array([9, 8, 7]) # random\n",
      "\n",
      "Generate a 2 by 4 array using broadcasting with dtype of uint8\n",
      "\n",
      ">>> np.random.randint([1, 3, 5, 7], [[10], [20]], dtype=np.uint8)\n",
      "array([[ 8,  6,  9,  7], # random\n",
      "       [ 1, 16,  9, 12]], dtype=uint8)\n",
      "\u001b[1;31mType:\u001b[0m      builtin_function_or_method"
     ]
    }
   ],
   "source": [
    "import numpy as np\n",
    "import matplotlib.pylab as plt\n",
    "from numpy import random\n",
    "\n",
    "list_1 = [1,2,3,4,5]\n",
    "np_arr_1 = np.array(list_1, dtype=np.int8)\n",
    "print(np_arr_1)\n",
    "\n",
    "m_list_1 = [[1,2,3],[4,5,6],[7,8,9]]\n",
    "np_m_arr_1 = np.array(m_list_1)\n",
    "print(np_m_arr_1)\n",
    "\n",
    "print(np.arange(1,10))\n",
    "print(np.linspace(0,5,7))\n",
    "print(np.zeros(4))\n",
    "print(np.ones((2,3)))\n",
    "\n",
    "print(np_m_arr_1.size)\n",
    "np_arr_2 = np.array([1,2,3,4,5,6])\n",
    "print(np_arr_2.dtype)\n",
    "\n",
    "np.random.randint(10,50,5)\n",
    "np.random.randint(10,50,size=(2,3))\n",
    "\n",
    "# If you ever want more information about a function, type it followed by ? and then ctrl-enter (to execute).\n",
    "np.random.randint?"
   ]
  },
  {
   "cell_type": "code",
   "execution_count": null,
   "metadata": {},
   "outputs": [],
   "source": []
  },
  {
   "cell_type": "markdown",
   "metadata": {},
   "source": [
    "# Slicing & Indexes"
   ]
  },
  {
   "cell_type": "code",
   "execution_count": 3,
   "metadata": {},
   "outputs": [
    {
     "name": "stdout",
     "output_type": "stream",
     "text": [
      "[[10  2  3]\n",
      " [10  5  6]\n",
      " [10  8  9]]\n",
      "[1 2 3 4 5]\n",
      "[1 3 5]\n",
      "[2 5 8]\n",
      "[[10  8  9]\n",
      " [10  5  6]\n",
      " [10  2  3]]\n",
      "[10  2 10  6 10  8]\n",
      "[10 10  6 10  8  9]\n",
      "[6 8]\n",
      "[10  2  3 10 10]\n",
      "[ 2  3  5  6  8  9 10]\n"
     ]
    }
   ],
   "source": [
    "#np_m_arr_1[0,0] = 2\n",
    "\n",
    "#np_m_arr_1.itemset((0,1),1)\n",
    "\n",
    "np_m_arr_1.shape\n",
    "\n",
    "np.take(np_m_arr_1, [0,3,6])\n",
    "np.put(np_m_arr_1, [0,3,6], [10,10,10])\n",
    "print(np_m_arr_1)\n",
    "\n",
    "# Slicing\n",
    "print(np_arr_1)\n",
    "print(np_arr_1[:5:2])\n",
    "\n",
    "#2nd value form each row\n",
    "print(np_m_arr_1[:,1])\n",
    "# Flip Array\n",
    "print(np_m_arr_1[::-1])\n",
    "\n",
    "#Grab only evens\n",
    "evens = np_m_arr_1[np_m_arr_1%2==0]\n",
    "print(evens)\n",
    "\n",
    "#Grab greater than 5\n",
    "print(np_m_arr_1[np_m_arr_1>5])\n",
    "\n",
    "# Other conditionals\n",
    "print(np_m_arr_1[(np_m_arr_1>5) & (np_m_arr_1<9)])\n",
    "print(np_m_arr_1[(np_m_arr_1<5) | (np_m_arr_1==10)])\n",
    "print(np.unique(np_m_arr_1))\n"
   ]
  },
  {
   "cell_type": "markdown",
   "metadata": {},
   "source": [
    "## Reshaping Arrays"
   ]
  },
  {
   "cell_type": "code",
   "execution_count": 4,
   "metadata": {},
   "outputs": [
    {
     "name": "stdout",
     "output_type": "stream",
     "text": [
      "[[10  2  3 10  5  6 10  8  9]]\n",
      "[[10  2  3 10  5]\n",
      " [ 6 10  8  9 10]]\n",
      "Transposed:\n",
      "[[10 10 10]\n",
      " [ 2  5  8]\n",
      " [ 3  6  9]]\n",
      "Swap Axes:\n",
      "[[10 10 10]\n",
      " [ 2  5  8]\n",
      " [ 3  6  9]]\n",
      "Flatten (Row Order)\n",
      "[10  2  3 10  5  6 10  8  9]\n",
      "Flatten (Column Order)\n",
      "[10 10 10  2  5  8  3  6  9]\n",
      "Sorted Rows\n",
      "[[ 2  3 10]\n",
      " [ 5  6 10]\n",
      " [ 8  9 10]]\n",
      "Sorted Columns\n",
      "[[ 2  3 10]\n",
      " [ 5  6 10]\n",
      " [ 8  9 10]]\n"
     ]
    }
   ],
   "source": [
    "print(np_m_arr_1.reshape((1,9)))\n",
    "print(np.resize(np_m_arr_1, (2,5)))\n",
    "\n",
    "print(\"Transposed:\")\n",
    "print( np_m_arr_1.transpose())\n",
    "\n",
    "print(\"Swap Axes:\")\n",
    "print(np_m_arr_1.swapaxes(0,1))\n",
    "\n",
    "print(\"Flatten (Row Order)\")\n",
    "print(np_m_arr_1.flatten())\n",
    "\n",
    "print(\"Flatten (Column Order)\")\n",
    "print(np_m_arr_1.flatten('F'))\n",
    "\n",
    "print(\"Sorted Rows\")\n",
    "np_m_arr_1.sort(axis=1)\n",
    "print(np_m_arr_1)\n",
    "\n",
    "print(\"Sorted Columns\")\n",
    "np_m_arr_1.sort(axis=0)\n",
    "print(np_m_arr_1)"
   ]
  },
  {
   "cell_type": "markdown",
   "metadata": {},
   "source": [
    "## Stacking and Splitting"
   ]
  },
  {
   "cell_type": "code",
   "execution_count": 18,
   "metadata": {},
   "outputs": [
    {
     "name": "stdout",
     "output_type": "stream",
     "text": [
      "ss_arr_1\n",
      " [[0 2]\n",
      " [6 1]]\n",
      "\n",
      "ss_arr_1\n",
      " [[6 4]\n",
      " [4 6]]\n",
      "Vertical Stack\n",
      "[[0 2]\n",
      " [6 1]\n",
      " [6 4]\n",
      " [4 6]]\n",
      "Horizontal Stack\n",
      "[[0 2 6 4]\n",
      " [6 1 4 6]]\n",
      "\n",
      "Column Stack\n",
      " [[0 2 6 4]]\n",
      "Row Stack\n",
      " [[0 2]\n",
      " [6 4]]\n",
      "ss_arr_5\n",
      " [[8 3 2 6 0 1 3 9 1 1]\n",
      " [9 1 7 8 3 2 9 7 8 8]]\n",
      "Split to 5 equal arrays\n",
      " [array([[8, 3],\n",
      "       [9, 1]]), array([[2, 6],\n",
      "       [7, 8]]), array([[0, 1],\n",
      "       [3, 2]]), array([[3, 9],\n",
      "       [9, 7]]), array([[1, 1],\n",
      "       [8, 8]])]\n",
      "Split to 2nd, 4th, and Rest \n",
      " [array([[8, 3],\n",
      "       [9, 1]]), array([[2, 6],\n",
      "       [7, 8]]), array([[0, 1, 3, 9, 1, 1],\n",
      "       [3, 2, 9, 7, 8, 8]])]\n"
     ]
    }
   ],
   "source": [
    "ss_arr_1 = np.random.randint(10, size =(2,2))\n",
    "print(\"ss_arr_1\\n\",ss_arr_1)\n",
    "\n",
    "print()\n",
    "\n",
    "ss_arr_2 = np.random.randint(10, size =(2,2))\n",
    "print(\"ss_arr_1\\n\",ss_arr_2 )\n",
    "\n",
    "# Stack 2 under 1\n",
    "print(\"Vertical Stack\")\n",
    "print(np.vstack((ss_arr_1, ss_arr_2)))\n",
    "\n",
    "\n",
    "print(\"Horizontal Stack\")\n",
    "print(np.hstack((ss_arr_1, ss_arr_2)))\n",
    "\n",
    "print()\n",
    "\n",
    "ss_arr_3 = np.delete(ss_arr_1, 1, 0)\n",
    "ss_arr_4 = np.delete(ss_arr_2, 1, 0)\n",
    "print(\"Column Stack\\n\", np.column_stack((ss_arr_3, ss_arr_4)))\n",
    "print(\"Row Stack\\n\", np.row_stack((ss_arr_3, ss_arr_4)))\n",
    "\n",
    "ss_arr_5 = np.random.randint(10, size =(2,10))\n",
    "print(\"ss_arr_5\\n\", ss_arr_5)\n",
    "\n",
    "\n",
    "print(\"Split to 5 equal arrays\\n\", np.hsplit(ss_arr_5, 5))\n",
    "\n",
    "print(\"Split to 2nd, 4th, and Rest \\n\", np.hsplit(ss_arr_5, (2,4)))"
   ]
  },
  {
   "cell_type": "markdown",
   "metadata": {},
   "source": [
    "## Copying"
   ]
  },
  {
   "cell_type": "code",
   "execution_count": 23,
   "metadata": {},
   "outputs": [
    {
     "name": "stdout",
     "output_type": "stream",
     "text": [
      "cp_arr_1\n",
      " [[0 9]\n",
      " [3 9]]\n",
      "cp_arr_2\n",
      " [[0 9]\n",
      " [3 9]]\n",
      "After changing array 2, which is not a real copy of array 1\n",
      "cp_arr_1\n",
      " [[11  9]\n",
      " [ 3  9]]\n",
      "cp_arr_2\n",
      " [[11  9]\n",
      " [ 3  9]]\n",
      "After flattening array 3, which is not a view of array 1\n",
      "cp_arr_1\n",
      " [[11  9]\n",
      " [ 3  9]]\n",
      "cp_arr_3\n",
      " [11  3  9  9]\n",
      "After changing array 1, with array 3 as a view\n",
      "cp_arr_1\n",
      " [[11 12]\n",
      " [ 3  9]]\n",
      "cp_arr_3\n",
      " [11  3  9  9]\n"
     ]
    }
   ],
   "source": [
    "cp_arr_1 = np.random.randint(10, size =(2,2))\n",
    "\n",
    "cp_arr_2 = cp_arr_1\n",
    "\n",
    "print(\"cp_arr_1\\n\", cp_arr_1)\n",
    "print(\"cp_arr_2\\n\", cp_arr_2)\n",
    "\n",
    "cp_arr_2[0,0] = 11\n",
    "print(\"After changing array 2, which is not a real copy of array 1\")\n",
    "print(\"cp_arr_1\\n\", cp_arr_1)\n",
    "print(\"cp_arr_2\\n\", cp_arr_2)\n",
    "\n",
    "cp_arr_3 = cp_arr_1.view()\n",
    "cp_arr_3 = cp_arr_3.flatten('F')\n",
    "print(\"After flattening array 3, which is not a view of array 1\")\n",
    "print(\"cp_arr_1\\n\", cp_arr_1)\n",
    "print(\"cp_arr_3\\n\", cp_arr_3)\n",
    "\n",
    "cp_arr_1[0,1]=12\n",
    "print(\"After changing array 1, with array 3 as a view, view does make a copy\")\n",
    "print(\"cp_arr_1\\n\", cp_arr_1)\n",
    "print(\"cp_arr_3\\n\", cp_arr_3)\n",
    "\n",
    "cp_arr_4 = cp_arr_1.copy()"
   ]
  },
  {
   "cell_type": "markdown",
   "metadata": {},
   "source": [
    "## Basic Math"
   ]
  },
  {
   "cell_type": "code",
   "execution_count": 38,
   "metadata": {},
   "outputs": [
    {
     "name": "stdout",
     "output_type": "stream",
     "text": [
      "Add\n",
      " [ 3  6  9 12]\n",
      "Subtract\n",
      " [-1 -2 -3 -4]\n",
      "Multiply\n",
      " [ 2  8 18 32]\n",
      "Divide\n",
      " [0.5 0.5 0.5 0.5]\n",
      "arr_5\n",
      " [63 61 38 15]\n",
      "arr_6\n",
      " [[13 10 97]\n",
      " [70 39 60]]\n",
      "rand_f\n",
      " [0.43774207 0.76918603 0.21237127 0.31855884]\n",
      "random choice\n",
      " 0.2123712687062722\n",
      "Sum of arr_3\n",
      " 10\n",
      "Sum of columns in arr_6\n",
      " [ 83  49 157]\n",
      "Sum of rows in arr_6\n",
      " [120 169]\n",
      "Minimum of columns in arr_6\n",
      " [13 10 60]\n",
      "Maximum of rows in arr_6\n",
      " [97 70]\n",
      "arr_3 added to 5\n",
      " [6 7 8 9]\n",
      "arr_7\n",
      " [[76  2  7]\n",
      " [19 56 45]\n",
      " [94 77 43]\n",
      " [41 45  6]\n",
      " [30 16 90]]\n",
      "[2 2 4]\n"
     ]
    }
   ],
   "source": [
    "arr_3 = np.array([1,2,3,4])\n",
    "arr_4 = np.array([2,4,6,8])\n",
    "\n",
    "print(\"Add\\n\", arr_3 + arr_4)\n",
    "print(\"Subtract\\n\", arr_3 - arr_4)\n",
    "print(\"Multiply\\n\", arr_3 * arr_4)\n",
    "print(\"Divide\\n\", arr_3 / arr_4)\n",
    "\n",
    "arr_5 = np.random.randint(100, size=(4))\n",
    "print(\"arr_5\\n\", arr_5)\n",
    "arr_6 = np.random.randint(100, size=(2,3))\n",
    "print(\"arr_6\\n\", arr_6)\n",
    "\n",
    "arr_f = random.rand(4)\n",
    "print(\"rand_f\\n\", arr_f)\n",
    "\n",
    "print(\"random choice\\n\", random.choice(arr_f))\n",
    "\n",
    "print(\"Sum of arr_3\\n\", arr_3.sum())\n",
    "print(\"Sum of columns in arr_6\\n\", arr_6.sum(axis=0))\n",
    "print(\"Sum of rows in arr_6\\n\", arr_6.sum(axis=1))\n",
    "\n",
    "print(\"Minimum of columns in arr_6\\n\", arr_6.min(axis=0))\n",
    "print(\"Maximum of rows in arr_6\\n\", arr_6.max(axis=1))\n",
    "\n",
    "print(\"arr_3 added to 5\\n\", np.add(arr_3, 5))\n",
    "\n",
    "#np.sqrt\n",
    "#np.power\n",
    "#np.exp\n",
    "#np.log\n",
    "#np.log2\n",
    "#np.lcm\n",
    "#np.gcd\n",
    "#np.floor\n",
    "#np.ceiling\n",
    "# Index of maximum\n",
    "arr_7 = np.random.randint(100, size=(5,3))\n",
    "print(\"arr_7\\n\", arr_7)\n",
    "mc_index = arr_7.argmax(axis=0)\n",
    "print(mc_index)"
   ]
  },
  {
   "cell_type": "markdown",
   "metadata": {},
   "source": [
    "## Reading from Files ##"
   ]
  },
  {
   "cell_type": "code",
   "execution_count": null,
   "metadata": {},
   "outputs": [],
   "source": []
  },
  {
   "cell_type": "markdown",
   "metadata": {},
   "source": [
    "## Linear Algebra Functions"
   ]
  },
  {
   "cell_type": "code",
   "execution_count": null,
   "metadata": {},
   "outputs": [],
   "source": []
  },
  {
   "cell_type": "markdown",
   "metadata": {},
   "source": []
  },
  {
   "cell_type": "markdown",
   "metadata": {},
   "source": []
  }
 ],
 "metadata": {
  "kernelspec": {
   "display_name": "base",
   "language": "python",
   "name": "python3"
  },
  "language_info": {
   "codemirror_mode": {
    "name": "ipython",
    "version": 3
   },
   "file_extension": ".py",
   "mimetype": "text/x-python",
   "name": "python",
   "nbconvert_exporter": "python",
   "pygments_lexer": "ipython3",
   "version": "3.11.7"
  }
 },
 "nbformat": 4,
 "nbformat_minor": 2
}
